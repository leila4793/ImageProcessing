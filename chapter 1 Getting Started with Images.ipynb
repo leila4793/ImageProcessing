{
 "cells": [
  {
   "cell_type": "markdown",
   "id": "bf9d1bb6-bde4-4118-b0b1-903a02eb92a3",
   "metadata": {},
   "source": [
    "__contents:__\n",
    "1. [Introduction to images and pixels](#Introduction)\n",
    "2. [Loading and displaying images](#Loading_an_image)\n",
    "3. [Accessing individual pixels](#Accessing_pixels)\n",
    "4. [Accessing a region of interest (ROI)](#ROI)\n",
    "5. [Drawing in OpenCV](#Drawing_in_OpenCV)\n",
    "   - 5.1.[line](#line)\n",
    "   - 5.2.[Rectangle](#Rectangle)\n",
    "   - 5.3.[Circle](#Circle)\n",
    "   - 5.4.[Text](#Text)"
   ]
  },
  {
   "cell_type": "markdown",
   "id": "486c98bc-69ec-4dc0-a94e-a6ec141ff3f7",
   "metadata": {},
   "source": [
    "# <h2 style=\"color: blue;\"> 1.Introduction to images and pixels <a id='Introduction'></a></h2>"
   ]
  },
  {
   "cell_type": "markdown",
   "id": "31ef8484-7e8e-4bb4-83d1-528f145eb243",
   "metadata": {},
   "source": [
    "<font color='#808080'>\n",
    "    \n",
    "__Pixels__ (short for \"picture element\") are the building blocks of images. A pixel is the smallest unit of a digital image, containing information about its color and position. When multiple pixels come together in a two-dimensional grid, they form a complete image. Each pixel contains color information, usually stored in three primary color channels: red, green, and blue (RGB). These channels combine at varying intensities to create a specific color. The value of each channel is often represented as an integer, commonly ranging from 0 to 255 in 8-bit systems. When all pixels are displayed together in a grid, they form a complete image. Higher pixel density or resolution leads to sharper and more detailed images.\n",
    "Let’s look at a few more examples of how colors are represented in the RGB color space:\n",
    "\n",
    "- ```(255,0,0)``` produces a pure red color since red is at its maximum while green and blue are at 0.\n",
    "- ```(0,255,0)``` produces a pure green color.\n",
    "- ```(0,0,255)``` produces a pure blue color.\n",
    "- ```(255,255,0)``` produces yellow since it is a combination of red and green.\n",
    "- ```(128,128,128)``` represents a grey color."
   ]
  },
  {
   "cell_type": "markdown",
   "id": "09cb9539-f3c1-4418-b10a-7b4137d3ac90",
   "metadata": {},
   "source": [
    "# <h2 style=\"color: blue;\"> 2.Loading and displaying images <a id='Loading_an_image'></a></h2>"
   ]
  },
  {
   "cell_type": "markdown",
   "id": "a32d05c2-0e72-41ff-873a-361f1afc928f",
   "metadata": {},
   "source": [
    "<font color='#808080'>\n",
    "    \n",
    "```python\n",
    "cv2.imread(path, flag = cv2.IMREAD_COLOR)\n",
    "```\n",
    "\n",
    "__Parameters:__\n",
    "\n",
    "* ```path```: This is a string which represents the path of the image to be read. It can be an absolute or passive path.\n",
    "* ```flag```: This is an optional parameter. It specifies how the image can be read. has a large number of options but we will be needing only a few of those.\n",
    "* ```cv2.IMREAD_COLOR (1)```: This loads the image in BGR format. It is the default format for the function.\n",
    "* ```cv2.IMREAD_GRAYSCALE (0)```: This loads the image in grayscale.\n",
    "* ```cv2.IMREAD_UNCHANGED (-1)```: This loads the image in its original format, generally used to include the alpha channel."
   ]
  },
  {
   "cell_type": "code",
   "execution_count": 1,
   "id": "b8c94f1c-12d5-40c2-9f8c-99cdeee5ae69",
   "metadata": {},
   "outputs": [],
   "source": [
    "import cv2\n",
    "imgColor = cv2.imread('imgs/fruits.png' , 1)\n",
    "imgGray = cv2.imread('imgs/fruits.png' , 0)\n",
    "imgUnchanged = cv2.imread('imgs/fruits.png' , -1)"
   ]
  },
  {
   "cell_type": "markdown",
   "id": "b257d52e-5827-4ac4-9cdd-986020ae5bf9",
   "metadata": {},
   "source": [
    "<font color='#808080'>\n",
    "To display an image, we will be using the imshow command:\n",
    "\n",
    "```python\n",
    "cv2.imshow(winname, mat)\n",
    "```\n",
    "\n",
    "__Parameters:__\n",
    "\n",
    "- ```Winname```: This represents the name of the window that the image is displayed in.\n",
    "- ```Mat```: This represents the NumPy array of the image we want to display."
   ]
  },
  {
   "cell_type": "code",
   "execution_count": 2,
   "id": "30f183a1-a043-4fd6-812c-dae11db01f09",
   "metadata": {},
   "outputs": [],
   "source": [
    "cv2.imshow('imgColor' , imgColor)\n",
    "cv2.imshow('imgGray' , imgGray)\n",
    "cv2.imshow('imgUnchanged' , imgUnchanged)\n",
    "# Wait until a key is pressed\n",
    "cv2.waitKey(0)\n",
    "# Close all Windows\n",
    "cv2.destroyAllWindows()"
   ]
  },
  {
   "cell_type": "markdown",
   "id": "ba8c84a6-55f2-49fb-82f3-abb8f5a3a87d",
   "metadata": {},
   "source": [
    "<font color='#808080'>\n",
    "    \n",
    "_Imwrite_ is to save images to our system.\n",
    "\n",
    "```python\n",
    "cv2.imwrite(filename, img, params=None)\n",
    "```\n",
    "\n",
    "__Parameters:__\n",
    "\n",
    "* ```Filename```: A string representing the path of the image to be saved. This can be an absolute or a relative path.\n",
    "* ```Img```: This represents the NumPy array of the image we want to write.\n",
    "* ```Params```: This is an optional parameter that specifies formatting and compression parameters for the image file. For now, the default value of None is acceptable."
   ]
  },
  {
   "cell_type": "markdown",
   "id": "1bd9d320-c46c-4ceb-936f-b0fe16416e02",
   "metadata": {},
   "source": [
    "# <h2 style=\"color: blue;\"> 3.Accessing individual pixels <a id='Accessing_pixels'></a></h2>"
   ]
  },
  {
   "cell_type": "markdown",
   "id": "feb6aa1e-0d0d-488d-b564-2f6d8f53d2c2",
   "metadata": {},
   "source": [
    "<font color='#808080'>\n",
    "    \n",
    "To access a particular pixel of an image, we can use the similar ```img[row, col]``` indexing.\n",
    "We can also modify the values of pixels using indexing. We can assign a value to a particular pixel as follows: ```img[5,7] = 255```"
   ]
  },
  {
   "cell_type": "code",
   "execution_count": 3,
   "id": "61d3abbc-df1f-47cf-8e8c-ff0977092ca3",
   "metadata": {},
   "outputs": [
    {
     "name": "stdout",
     "output_type": "stream",
     "text": [
      "[255 255 255]\n",
      "[0 0 0]\n"
     ]
    }
   ],
   "source": [
    "img = cv2.imread('imgs/fruits.png')\n",
    "# Get the pixel value at x=75, y=25\n",
    "pixel_value = img[25, 75]\n",
    "#Print this value\n",
    "print(pixel_value)\n",
    "#Manipulate value of this pixel\n",
    "img[25, 75] = 0\n",
    "#Rechecking value\n",
    "print(pixel_value)"
   ]
  },
  {
   "cell_type": "code",
   "execution_count": 4,
   "id": "495a818e-3848-4ccd-979f-3960b5ffaa7e",
   "metadata": {},
   "outputs": [],
   "source": [
    "for i in range(img.shape[0]):\n",
    "    for j in range(img.shape[1]):\n",
    "        if j % 10 == 0:  # Checking for every tenth column\n",
    "            img[i,j] = [0,0,0] # Setting this value to 0\n",
    "\n",
    "cv2.imshow('img', img) # Display our result\n",
    "cv2.waitKey(0)\n",
    "cv2.destroyAllWindows()"
   ]
  },
  {
   "cell_type": "markdown",
   "id": "d7ff1433-a05c-4e8b-892c-06b3a9496c13",
   "metadata": {},
   "source": [
    "# <h2 style=\"color: blue;\"> 4.Accessing a region of interest (ROI) <a id='ROI'></a></h2>"
   ]
  },
  {
   "cell_type": "markdown",
   "id": "2aac0048-7925-49b9-9e6d-387fa17bd9c9",
   "metadata": {},
   "source": [
    "To define an ROI, we can use the following command:\n",
    "\n",
    "```python\n",
    "roi = img[y:y+h, x:x+w]\n",
    "```\n",
    "This will create an ROI by slicing the necessary points of the image into that variable:"
   ]
  },
  {
   "cell_type": "code",
   "execution_count": 5,
   "id": "123c1bb0-b1d6-4806-b9eb-da8a526a204d",
   "metadata": {},
   "outputs": [
    {
     "name": "stdout",
     "output_type": "stream",
     "text": [
      "(75, 75, 3)\n"
     ]
    }
   ],
   "source": [
    "# Define index values\n",
    "x = 50\n",
    "y = 60\n",
    "w = 75\n",
    "h = 75\n",
    "roi = img[y:y+h , x:x+w] # Extract ROI from the image\n",
    "print(roi.shape) # Print shape of the extracted ROI\n",
    "img[100:150 , 150:200] = (255 , 255 , 0) # Assigning a colour to a different ROI\n",
    "cv2.imshow('Extracted ROI rectangle', roi) # Display the image with the ROI and rectangle\n",
    "cv2.imshow('Image with ROI colour', img)\n",
    "cv2.waitKey(0)\n",
    "cv2.destroyAllWindows()"
   ]
  },
  {
   "cell_type": "markdown",
   "id": "a1ae1224-176f-4ad1-8b4a-d64bce2790d1",
   "metadata": {},
   "source": [
    "# <h2 style=\"color: blue;\"> 5.Drawing in OpenCV <a id='Drawing_in_OpenCV'></a></h2>"
   ]
  },
  {
   "cell_type": "markdown",
   "id": "88ab8076-8570-4303-8932-8eca28dfda4d",
   "metadata": {},
   "source": [
    "<font color='#808080'>\n",
    "    \n",
    "We can design a wide range of shapes using OpenCV, including ```lines```, ```circles```, ```rectangles```, and ```polygons```, and we can customize their size and color. Using OpenCV, ```text``` can be added to photos as well.\n",
    "We will begin by creating a __blank canvas__ on which we can draw various shapes. Alternatively, you can also __load an image__ and _draw_ the shapes on it.\n",
    "we can then draw on this NumPy ```canvas```:\n",
    "```python\n",
    "canvas = np.zeros((600, 600, 3), dtype=np.uint8)\n",
    "```\n"
   ]
  },
  {
   "cell_type": "markdown",
   "id": "62bccdf1-3107-4f2a-9c79-3d8218ae1f42",
   "metadata": {},
   "source": [
    "## <h2 style=\"color: blue;\"> 5.1.line <a id='line'></a></h2>"
   ]
  },
  {
   "cell_type": "markdown",
   "id": "87faac9e-a291-4335-8486-55bfcbfe7448",
   "metadata": {},
   "source": [
    "<font color='#808080'>\n",
    "\n",
    "```python\n",
    "cv2.line(img, pt1, pt2, color, thickness=1, lineType = cv2.LINE_8, shift = 0)\n",
    "```\n",
    "\n",
    "__Parameters:__\n",
    "\n",
    "- ```Img:``` The image where the line will be drawn.\n",
    "- ```Pt1:``` The starting coordinates of the line. This will be in tuple (x,y) format.\n",
    "- ```Pt2:``` End coordinates of the line. This will be in tuple (x,y) format.\n",
    "- ```Color:``` The color of the line. This will be in tuple (B, G, R) format.\n",
    "- ```Thickness:``` The thickness of the line in pixels. This is an optional argument with a default value of 1.\n",
    "- ```lineType:``` The type of the line. We will not be using this parameter and can leave it to the default value.\n",
    "- ```Shift:``` Number of fractional bits in the line coordinates. We will not be using this parameter and can leave it to the default value of 0.\n"
   ]
  },
  {
   "cell_type": "code",
   "execution_count": 6,
   "id": "39f43467-8baa-4886-8e76-a59e372bb5c9",
   "metadata": {},
   "outputs": [],
   "source": [
    "import numpy as np\n",
    "import cv2\n",
    "canvas = np.zeros((600, 500, 3), dtype = np.uint8) # Create a black canvas\n",
    "# Define the vertices of the triangle\n",
    "p1 = (250, 100)\n",
    "p2 = (100, 400)\n",
    "p3 = (400, 400)\n",
    "# Draw the lines using cv2.line()\n",
    "cv2.line(canvas, p1, p2, (0, 255, 0), 1)\n",
    "cv2.line(canvas, p3, p1, (255, 0, 0), 3)\n",
    "cv2.line(canvas, p2, p3, (255, 255, 255), 10)\n",
    "# Display the image\n",
    "cv2.imshow('Triangle', canvas)\n",
    "cv2.waitKey(0)\n",
    "cv2.destroyAllWindows()"
   ]
  },
  {
   "cell_type": "markdown",
   "id": "0d159ded-ee7e-4140-b3df-a8ced1fc93d5",
   "metadata": {},
   "source": [
    "## <h2 style=\"color: blue;\"> 5.2.Rectangle <a id='Rectangle'></a></h2>"
   ]
  },
  {
   "cell_type": "markdown",
   "id": "e98db95d-5567-47b5-a36d-bed8924043d9",
   "metadata": {},
   "source": [
    "<font color='#808080'>\n",
    "    \n",
    "We can use the ```cv2.rectangle``` command to create rectangles in OpenCV:\n",
    "```python\n",
    "Cv2.rectangle(img, pt1, pt2, color, thickness = 1, lineType = cv2.LINE_8, shift = 0)\n",
    "```\n",
    "__Parameters:__\n",
    "- ```Img:``` The image where the line will be drawn.\n",
    "- ```Pt1:``` The top left corner point of the rectangle. This will be in tuple (x,y) format.\n",
    "- ```Pt2:``` The bottom right point of the rectangle. This will be in tuple (x,y) format.\n",
    "- ```Color:``` The color of the rectangle being drawn. This will be in tuple (B, G, R) format.\n",
    "- ```Thickness:``` The thickness of the rectangle border in pixels. This is an optional argument with a default value of 1. If the thickness of the rectangle is negative, it will fill the rectangle.\n",
    "- ```lineType:``` The type of the line. We will not be using this parameter and can leave it to the default value.\n",
    "- ```Shift:``` Number of fractional bits in the line coordinates. We will not be using this parameter and can leave it to the default value of 0.\n",
    "\n",
    "lets create below image:"
   ]
  },
  {
   "cell_type": "markdown",
   "id": "1589eae5-ab8c-4a13-aa41-885e8b9413b4",
   "metadata": {},
   "source": [
    "<div style=\"text-align: center;\">\n",
    "    \n",
    "  <img src=\"imgs/rectangle.png\" alt=\"Jupyter Logo\" width=\"300\">\n",
    "  \n",
    "</div>"
   ]
  },
  {
   "cell_type": "code",
   "execution_count": 7,
   "id": "bbee9041-50c4-4fdd-ba78-716277e22a23",
   "metadata": {},
   "outputs": [],
   "source": [
    "img = np.zeros((600, 500, 3), dtype = np.uint8) # Create a black image\n",
    "# Draw the figure using rectangles and lines\n",
    "cv2.rectangle(img, (150, 150), (350, 400), (242, 199, 155), thickness = -1) # Face\n",
    "cv2.rectangle(img, (100, 50), (400, 150), (198, 131, 56), thickness=-1) # Cap\n",
    "cv2.rectangle(img, (200, 310), (300, 330), (128, 0, 128), thickness=2) # Mouth\n",
    "# Draw the eyes on the face as X shapes\n",
    "cv2.line(img, (195, 200), (212, 228), (0, 0, 0), thickness = 2)\n",
    "cv2.line(img, (212, 200), (195, 228), (0, 0, 0), thickness = 2)\n",
    "cv2.line(img, (288, 200), (305, 228), (0, 0, 0), thickness = 2)\n",
    "cv2.line(img, (305, 200), (288, 228), (0, 0, 0), thickness = 2)\n",
    "# Display the image\n",
    "cv2.imshow('Robo', img)\n",
    "cv2.waitKey(0)\n",
    "cv2.destroyAllWindows()"
   ]
  },
  {
   "cell_type": "markdown",
   "id": "78df13d2-eeee-4647-9e02-469da3994f32",
   "metadata": {},
   "source": [
    "## <h2 style=\"color: blue;\"> 5.3.Circle <a id='Circle'></a></h2>"
   ]
  },
  {
   "cell_type": "markdown",
   "id": "a577545e-739b-4596-ae86-e469fa97a9bd",
   "metadata": {},
   "source": [
    "<font color='#808080'>\n",
    "    \n",
    "The ```cv2.circle()``` function is used to draw a circle on an image:\n",
    "```python\n",
    "Cv2.circle(img, center, radius, color, thickness=1, lineType = cv2.LINE_8, shift=0)\n",
    "```\n",
    "__Parameters:__\n",
    "\n",
    "* ```Img:``` The image where the line will be drawn.\n",
    "* ```Center:``` The cent point of the circle. This will be in tuple (x,y) format.\n",
    "* ```Radius:``` Radius of the circle\n",
    "* ```Color:``` The color of the circle. This will be in tuple (B, G, R) format.\n",
    "* ```Thickness:``` The thickness of the circle border in pixels. This is an optional argument with a default value of 1. If the thickness of the rectangle is negative, it will fill the circle.\n",
    "* ```lineType:``` The type of the line. We will not be using this parameter and can leave it to the default value.\n",
    "* ```Shift:``` Number of fractional bits in the line coordinates. We will not be using this parameter and can leave it to the default value of 0."
   ]
  },
  {
   "cell_type": "code",
   "execution_count": 8,
   "id": "1a627ac6-d166-4a3a-b8ac-a61103d43752",
   "metadata": {},
   "outputs": [],
   "source": [
    "canvas = np.zeros((500, 500, 3), dtype = np.uint8) # Create an empty canvas\n",
    "center = (250, 250) # Define the center point\n",
    "# Define the radii of the circles\n",
    "radius1 = 50\n",
    "radius2 = 100\n",
    "radius3 = 150\n",
    "\n",
    "# Define the colors of the circles\n",
    "color1 = (0, 0, 255)\n",
    "color2 = (255, 0, 0)\n",
    "color3 = (0, 255, 0)\n",
    "\n",
    "# Define the thickness of the circles\n",
    "thickness1 = -1\n",
    "thickness2 = 2\n",
    "thickness3 = 10\n",
    "\n",
    "# Draw the circles on the canvas\n",
    "cv2.circle(canvas, center, radius1, color1, thickness1)\n",
    "cv2.circle(canvas, center, radius2, color2, thickness2)\n",
    "cv2.circle(canvas, center, radius3, color3, thickness3)\n",
    "\n",
    "# Display the image\n",
    "cv2.imshow('Image', canvas)\n",
    "cv2.waitKey(0)\n",
    "cv2.destroyAllWindows()"
   ]
  },
  {
   "cell_type": "markdown",
   "id": "b8290592-8581-4196-ae30-f7ec15324e26",
   "metadata": {},
   "source": [
    "## <h2 style=\"color: blue;\"> 5.4.Text <a id='Text'></a></h2>"
   ]
  },
  {
   "cell_type": "markdown",
   "id": "3a015000-8623-43b6-8efc-9412350753cf",
   "metadata": {},
   "source": [
    "<font color='#808080'>\n",
    "    \n",
    "We use the function ```cv2.putText()``` to add text to images:\n",
    "```python\n",
    "Cv2.putText(img, text, org, fontFace = 'cv2.FONT_HERSHEY_SIMPLEX', fontScale = 0, color = (0,0,0), thickness = 1, lineType='cv2.LINE_AA', bottomLeftOrigin = False)\n",
    "```\n",
    "\n",
    "__Parameters:__\n",
    "\n",
    "* ```Img:``` The image where the line will be drawn.\n",
    "* ```Text:``` The text string to be drawn.\n",
    "* ```org:``` The coordinates of the bottom-left corner of the text.\n",
    "* ```fontFace:``` The font type of the text. This is an optional argument with a default value of  _cv2.FONT_HERSHEY_SIMPLEX_.\n",
    "* ```fontScale:``` Font scale factor that is multiplied by the font-specific base size. This is an optional argument with a default value of 1.\n",
    "* ```Color:``` The color of the text. This will be in tuple (B, G, R) format. This is an optional argument with a default value of (0,0,0).\n",
    "* ```Thickness:``` The thickness of the lines in the text. This is an optional argument with a default value of 1. If the thickness is negative, it will fill the text.\n",
    "* ```lineType:``` The type of the line. We will not be using this parameter and can leave it to the default value."
   ]
  },
  {
   "cell_type": "code",
   "execution_count": 9,
   "id": "1b2adc8a-c2d1-46cb-ad1d-5aee94cfe0d3",
   "metadata": {},
   "outputs": [],
   "source": [
    "img = np.zeros((600, 500, 3), dtype = np.uint8) # create a blank image\n",
    "text = 'Hello World!' # define the text to be displayed\n",
    "\n",
    "# set the text color and position\n",
    "color = (255, 0, 0)\n",
    "pos = (50, 200)\n",
    "\n",
    "# display the text using cv2.putText()\n",
    "cv2.putText(img, text, pos, cv2.FONT_HERSHEY_SIMPLEX, 2, color, 3)\n",
    "\n",
    "# display the image\n",
    "cv2.imshow('Image with text', img)\n",
    "cv2.waitKey(0)\n",
    "cv2.destroyAllWindows()"
   ]
  },
  {
   "cell_type": "code",
   "execution_count": null,
   "id": "51a108c2-52b7-43f2-8c22-b2ad6f200280",
   "metadata": {},
   "outputs": [],
   "source": []
  }
 ],
 "metadata": {
  "kernelspec": {
   "display_name": "Python 3 (ipykernel)",
   "language": "python",
   "name": "python3"
  },
  "language_info": {
   "codemirror_mode": {
    "name": "ipython",
    "version": 3
   },
   "file_extension": ".py",
   "mimetype": "text/x-python",
   "name": "python",
   "nbconvert_exporter": "python",
   "pygments_lexer": "ipython3",
   "version": "3.11.2"
  }
 },
 "nbformat": 4,
 "nbformat_minor": 5
}
